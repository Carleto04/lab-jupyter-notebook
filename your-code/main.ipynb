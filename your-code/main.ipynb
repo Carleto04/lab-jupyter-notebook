{
 "cells": [
  {
   "cell_type": "markdown",
   "metadata": {},
   "source": [
    "1. [My Secret Identity](#identity)\n",
    "2. [The Mood](#mood)\n",
    "3. [The place](#place)\n",
    "4. [The perfect spot](#perfect_spot)"
   ]
  },
  {
   "cell_type": "markdown",
   "metadata": {},
   "source": [
    "# V Fantastic Holidays"
   ]
  },
  {
   "cell_type": "markdown",
   "metadata": {},
   "source": [
    "<a id=\"identity\"></a>\n",
    "## My Secret Identity"
   ]
  },
  {
   "cell_type": "markdown",
   "metadata": {},
   "source": [
    "[link text](https://static.nationalgeographic.co.uk/files/styles/image_3200/public/MAIN_mask_only.jpg?w=1600&h=900)"
   ]
  },
  {
   "cell_type": "markdown",
   "metadata": {},
   "source": [
    "<img src=\"https://static.nationalgeographic.co.uk/files/styles/image_3200/public/MAIN_mask_only.jpg?w=1600&h=900\">"
   ]
  },
  {
   "cell_type": "markdown",
   "metadata": {},
   "source": [
    "My name is **Guy Fox** and I am an English troublemaker with the revolution stamped in my heart. I like music, masks and fireworks."
   ]
  },
  {
   "cell_type": "code",
   "execution_count": null,
   "metadata": {},
   "outputs": [],
   "source": [
    "user_name = input('What is your name? ')"
   ]
  },
  {
   "cell_type": "code",
   "execution_count": null,
   "metadata": {},
   "outputs": [],
   "source": [
    "print(user_name)\n",
    "print('Nice to meet you ' + user_name + '. I want to show you what do I like')"
   ]
  },
  {
   "cell_type": "markdown",
   "metadata": {},
   "source": [
    "<a id=\"mood\"></a>\n",
    "## The mood"
   ]
  },
  {
   "cell_type": "markdown",
   "metadata": {},
   "source": [
    "The best way to descrive it, is showing you"
   ]
  },
  {
   "cell_type": "markdown",
   "metadata": {},
   "source": [
    "[come in](https://www.youtube.com/watch?v=_-gHVGOoE48)"
   ]
  },
  {
   "cell_type": "markdown",
   "metadata": {},
   "source": [
    "<a id=\"place\"></a>"
   ]
  },
  {
   "cell_type": "markdown",
   "metadata": {},
   "source": [
    "<a id=\"place\"></a>\n",
    "## The place"
   ]
  },
  {
   "cell_type": "markdown",
   "metadata": {},
   "source": [
    "What a wonderful place this is"
   ]
  },
  {
   "cell_type": "markdown",
   "metadata": {},
   "source": [
    "<img src=\"https://cdn.civitatis.com/italia/venecia/guia/venecia.jpg\">"
   ]
  },
  {
   "cell_type": "code",
   "execution_count": null,
   "metadata": {},
   "outputs": [],
   "source": [
    "user_preferences_place = input('So, what do YOU like, mountain or coast? ')"
   ]
  },
  {
   "cell_type": "code",
   "execution_count": null,
   "metadata": {},
   "outputs": [],
   "source": [
    "user_preferences_language = input('What is your favorite language? ')"
   ]
  },
  {
   "cell_type": "code",
   "execution_count": null,
   "metadata": {},
   "outputs": [],
   "source": [
    "user_preferences_weather = input('What is your type of weather? ')"
   ]
  },
  {
   "cell_type": "markdown",
   "metadata": {},
   "source": [
    "<a id=\"perfect_spot\"></a>\n",
    "## Then the perfect spot for us is..."
   ]
  },
  {
   "cell_type": "code",
   "execution_count": null,
   "metadata": {},
   "outputs": [],
   "source": [
    "print(user_preferences_place)\n",
    "print(user_preferences_language)\n",
    "print(user_preferences_weather)"
   ]
  },
  {
   "cell_type": "code",
   "execution_count": null,
   "metadata": {},
   "outputs": [],
   "source": [
    "print('So you like ' + user_preferences_place + ' where they preferently speak ' + user_preferences_language + ' and the weather is mainly ' + user_preferences_weather)\n",
    "print(\"I like Venice, sorry. We are going there\")"
   ]
  },
  {
   "cell_type": "markdown",
   "metadata": {},
   "source": [
    "[click me](https://www.youtube.com/watch?v=ZxobpBKInFw)"
   ]
  }
 ],
 "metadata": {
  "kernelspec": {
   "display_name": "Python 3",
   "language": "python",
   "name": "python3"
  },
  "language_info": {
   "codemirror_mode": {
    "name": "ipython",
    "version": 3
   },
   "file_extension": ".py",
   "mimetype": "text/x-python",
   "name": "python",
   "nbconvert_exporter": "python",
   "pygments_lexer": "ipython3",
   "version": "3.7.6"
  }
 },
 "nbformat": 4,
 "nbformat_minor": 4
}
